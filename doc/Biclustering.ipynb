{
 "cells": [
  {
   "cell_type": "code",
   "execution_count": 1,
   "metadata": {
    "collapsed": true
   },
   "outputs": [],
   "source": [
    "import numpy as np"
   ]
  },
  {
   "cell_type": "code",
   "execution_count": 2,
   "metadata": {
    "collapsed": true
   },
   "outputs": [],
   "source": [
    "import os"
   ]
  },
  {
   "cell_type": "code",
   "execution_count": 3,
   "metadata": {
    "collapsed": true
   },
   "outputs": [],
   "source": [
    "import pandas as pd"
   ]
  },
  {
   "cell_type": "code",
   "execution_count": 4,
   "metadata": {
    "collapsed": true
   },
   "outputs": [],
   "source": [
    "from sklearn.cluster import bicluster"
   ]
  },
  {
   "cell_type": "markdown",
   "metadata": {},
   "source": [
    "---"
   ]
  },
  {
   "cell_type": "markdown",
   "metadata": {},
   "source": [
    "**2015 December 4-6**\n",
    "\n",
    "Loading and exploring UTSW RNAi dataset..."
   ]
  },
  {
   "cell_type": "code",
   "execution_count": 5,
   "metadata": {
    "collapsed": true
   },
   "outputs": [],
   "source": [
    "dfFile = os.path.join('..', 'data', 'siRNA_dataframe.csv')"
   ]
  },
  {
   "cell_type": "code",
   "execution_count": 6,
   "metadata": {
    "collapsed": false
   },
   "outputs": [],
   "source": [
    "RNAiDf = pd.read_csv(dfFile, index_col=0)"
   ]
  },
  {
   "cell_type": "code",
   "execution_count": 9,
   "metadata": {
    "collapsed": false
   },
   "outputs": [
    {
     "data": {
      "text/html": [
       "<div>\n",
       "<table border=\"1\" class=\"dataframe\">\n",
       "  <thead>\n",
       "    <tr style=\"text-align: right;\">\n",
       "      <th></th>\n",
       "      <th>HBEC30</th>\n",
       "      <th>H1155</th>\n",
       "      <th>HCC366</th>\n",
       "      <th>H1819</th>\n",
       "      <th>HCC44</th>\n",
       "      <th>HCC4017</th>\n",
       "      <th>H1993</th>\n",
       "      <th>H460</th>\n",
       "      <th>H2073</th>\n",
       "      <th>H2009</th>\n",
       "      <th>H2122</th>\n",
       "      <th>H1395</th>\n",
       "      <th>HCC95</th>\n",
       "    </tr>\n",
       "  </thead>\n",
       "  <tbody>\n",
       "    <tr>\n",
       "      <th>54553</th>\n",
       "      <td>NaN</td>\n",
       "      <td>0.789991</td>\n",
       "      <td>-0.520375</td>\n",
       "      <td>1.868076</td>\n",
       "      <td>0.383222</td>\n",
       "      <td>-0.741300</td>\n",
       "      <td>0.027237</td>\n",
       "      <td>1.527195</td>\n",
       "      <td>0.151016</td>\n",
       "      <td>-0.070423</td>\n",
       "      <td>0.092664</td>\n",
       "      <td>0.280136</td>\n",
       "      <td>0.91</td>\n",
       "    </tr>\n",
       "    <tr>\n",
       "      <th>54729</th>\n",
       "      <td>NaN</td>\n",
       "      <td>-1.022032</td>\n",
       "      <td>-3.813564</td>\n",
       "      <td>0.266868</td>\n",
       "      <td>-7.329748</td>\n",
       "      <td>-0.474432</td>\n",
       "      <td>-8.524133</td>\n",
       "      <td>-2.004592</td>\n",
       "      <td>-2.934604</td>\n",
       "      <td>-1.527374</td>\n",
       "      <td>-0.520543</td>\n",
       "      <td>-0.540677</td>\n",
       "      <td>-0.70</td>\n",
       "    </tr>\n",
       "    <tr>\n",
       "      <th>54753</th>\n",
       "      <td>NaN</td>\n",
       "      <td>-0.363565</td>\n",
       "      <td>-0.320215</td>\n",
       "      <td>1.334340</td>\n",
       "      <td>0.652826</td>\n",
       "      <td>1.037820</td>\n",
       "      <td>-0.397525</td>\n",
       "      <td>1.052426</td>\n",
       "      <td>-0.236109</td>\n",
       "      <td>-0.043509</td>\n",
       "      <td>0.639026</td>\n",
       "      <td>-0.181569</td>\n",
       "      <td>0.76</td>\n",
       "    </tr>\n",
       "    <tr>\n",
       "      <th>54906</th>\n",
       "      <td>NaN</td>\n",
       "      <td>0.485187</td>\n",
       "      <td>-0.234777</td>\n",
       "      <td>0.118608</td>\n",
       "      <td>0.152439</td>\n",
       "      <td>1.230558</td>\n",
       "      <td>0.271865</td>\n",
       "      <td>0.848898</td>\n",
       "      <td>1.423527</td>\n",
       "      <td>-0.002306</td>\n",
       "      <td>1.346933</td>\n",
       "      <td>0.865910</td>\n",
       "      <td>-0.19</td>\n",
       "    </tr>\n",
       "    <tr>\n",
       "      <th>54944</th>\n",
       "      <td>NaN</td>\n",
       "      <td>1.102957</td>\n",
       "      <td>0.397106</td>\n",
       "      <td>0.252042</td>\n",
       "      <td>3.988061</td>\n",
       "      <td>1.215732</td>\n",
       "      <td>3.433279</td>\n",
       "      <td>1.975440</td>\n",
       "      <td>1.119274</td>\n",
       "      <td>1.999617</td>\n",
       "      <td>0.728126</td>\n",
       "      <td>-1.167717</td>\n",
       "      <td>-0.17</td>\n",
       "    </tr>\n",
       "  </tbody>\n",
       "</table>\n",
       "</div>"
      ],
      "text/plain": [
       "       HBEC30     H1155    HCC366     H1819     HCC44   HCC4017     H1993  \\\n",
       "54553     NaN  0.789991 -0.520375  1.868076  0.383222 -0.741300  0.027237   \n",
       "54729     NaN -1.022032 -3.813564  0.266868 -7.329748 -0.474432 -8.524133   \n",
       "54753     NaN -0.363565 -0.320215  1.334340  0.652826  1.037820 -0.397525   \n",
       "54906     NaN  0.485187 -0.234777  0.118608  0.152439  1.230558  0.271865   \n",
       "54944     NaN  1.102957  0.397106  0.252042  3.988061  1.215732  3.433279   \n",
       "\n",
       "           H460     H2073     H2009     H2122     H1395  HCC95  \n",
       "54553  1.527195  0.151016 -0.070423  0.092664  0.280136   0.91  \n",
       "54729 -2.004592 -2.934604 -1.527374 -0.520543 -0.540677  -0.70  \n",
       "54753  1.052426 -0.236109 -0.043509  0.639026 -0.181569   0.76  \n",
       "54906  0.848898  1.423527 -0.002306  1.346933  0.865910  -0.19  \n",
       "54944  1.975440  1.119274  1.999617  0.728126 -1.167717  -0.17  "
      ]
     },
     "execution_count": 9,
     "metadata": {},
     "output_type": "execute_result"
    }
   ],
   "source": [
    "RNAiDf.tail()"
   ]
  },
  {
   "cell_type": "markdown",
   "metadata": {},
   "source": [
    "Impute NaN values by replacing with the column median. Choosing the column b/c more points exist to give better statistics along with the attempting to establish that the gene deletion in question has little effect on the cell line. "
   ]
  },
  {
   "cell_type": "code",
   "execution_count": 7,
   "metadata": {
    "collapsed": false
   },
   "outputs": [],
   "source": [
    "rplVals = np.nanmedian(RNAiDf.values, axis=0)"
   ]
  },
  {
   "cell_type": "code",
   "execution_count": 8,
   "metadata": {
    "collapsed": true
   },
   "outputs": [],
   "source": [
    "for i,col in enumerate(RNAiDf.columns):\n",
    "    RNAiDf[col].replace(np.nan, rplVals[i], inplace=True)"
   ]
  },
  {
   "cell_type": "markdown",
   "metadata": {},
   "source": [
    "# Spectral Co-Clustering"
   ]
  },
  {
   "cell_type": "code",
   "execution_count": 9,
   "metadata": {
    "collapsed": true
   },
   "outputs": [],
   "source": [
    "modelSC = bicluster.SpectralCoclustering()"
   ]
  },
  {
   "cell_type": "code",
   "execution_count": 10,
   "metadata": {
    "collapsed": false
   },
   "outputs": [],
   "source": [
    "modelSC.fit(RNAiDf.values)"
   ]
  },
  {
   "cell_type": "markdown",
   "metadata": {
    "collapsed": true
   },
   "source": [
    "# Spectral Biclustering"
   ]
  },
  {
   "cell_type": "code",
   "execution_count": 11,
   "metadata": {
    "collapsed": true
   },
   "outputs": [],
   "source": [
    "modelSB = bicluster.SpectralBiclustering()"
   ]
  },
  {
   "cell_type": "code",
   "execution_count": 12,
   "metadata": {
    "collapsed": false
   },
   "outputs": [],
   "source": [
    "modelSB.fit(RNAiDf.values)"
   ]
  },
  {
   "cell_type": "code",
   "execution_count": null,
   "metadata": {
    "collapsed": true
   },
   "outputs": [],
   "source": []
  }
 ],
 "metadata": {
  "kernelspec": {
   "display_name": "Python 3",
   "language": "python",
   "name": "python3"
  },
  "language_info": {
   "codemirror_mode": {
    "name": "ipython",
    "version": 3
   },
   "file_extension": ".py",
   "mimetype": "text/x-python",
   "name": "python",
   "nbconvert_exporter": "python",
   "pygments_lexer": "ipython3",
   "version": "3.4.3"
  }
 },
 "nbformat": 4,
 "nbformat_minor": 0
}
